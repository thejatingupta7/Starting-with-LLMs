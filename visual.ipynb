{
 "cells": [
  {
   "cell_type": "code",
   "execution_count": null,
   "id": "0994b296",
   "metadata": {},
   "outputs": [],
   "source": [
    "pip install nbformat>=4.2.0 "
   ]
  },
  {
   "cell_type": "code",
   "execution_count": 1,
   "id": "37f87771",
   "metadata": {},
   "outputs": [
    {
     "data": {
      "application/vnd.plotly.v1+json": {
       "config": {
        "plotlyServerURL": "https://plot.ly"
       },
       "data": [
        {
         "hovertemplate": "PC1=%{x}<br>PC2=%{y}<br>PC3=%{z}<extra></extra>",
         "legendgroup": "",
         "marker": {
          "color": "#636efa",
          "size": 2,
          "symbol": "circle"
         },
         "mode": "markers",
         "name": "",
         "scene": "scene",
         "showlegend": false,
         "type": "scatter3d",
         "x": {
          "bdata": "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",
          "dtype": "f4"
         },
         "y": {
          "bdata": "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",
          "dtype": "f4"
         },
         "z": {
          "bdata": "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",
          "dtype": "f4"
         }
        }
       ],
       "layout": {
        "height": 700,
        "legend": {
         "tracegroupgap": 0
        },
        "scene": {
         "domain": {
          "x": [
           0,
           1
          ],
          "y": [
           0,
           1
          ]
         },
         "xaxis": {
          "title": {
           "text": "Principal Component 1"
          }
         },
         "yaxis": {
          "title": {
           "text": "Principal Component 2"
          }
         },
         "zaxis": {
          "title": {
           "text": "Principal Component 3"
          }
         }
        },
        "template": {
         "data": {
          "bar": [
           {
            "error_x": {
             "color": "#2a3f5f"
            },
            "error_y": {
             "color": "#2a3f5f"
            },
            "marker": {
             "line": {
              "color": "#E5ECF6",
              "width": 0.5
             },
             "pattern": {
              "fillmode": "overlay",
              "size": 10,
              "solidity": 0.2
             }
            },
            "type": "bar"
           }
          ],
          "barpolar": [
           {
            "marker": {
             "line": {
              "color": "#E5ECF6",
              "width": 0.5
             },
             "pattern": {
              "fillmode": "overlay",
              "size": 10,
              "solidity": 0.2
             }
            },
            "type": "barpolar"
           }
          ],
          "carpet": [
           {
            "aaxis": {
             "endlinecolor": "#2a3f5f",
             "gridcolor": "white",
             "linecolor": "white",
             "minorgridcolor": "white",
             "startlinecolor": "#2a3f5f"
            },
            "baxis": {
             "endlinecolor": "#2a3f5f",
             "gridcolor": "white",
             "linecolor": "white",
             "minorgridcolor": "white",
             "startlinecolor": "#2a3f5f"
            },
            "type": "carpet"
           }
          ],
          "choropleth": [
           {
            "colorbar": {
             "outlinewidth": 0,
             "ticks": ""
            },
            "type": "choropleth"
           }
          ],
          "contour": [
           {
            "colorbar": {
             "outlinewidth": 0,
             "ticks": ""
            },
            "colorscale": [
             [
              0,
              "#0d0887"
             ],
             [
              0.1111111111111111,
              "#46039f"
             ],
             [
              0.2222222222222222,
              "#7201a8"
             ],
             [
              0.3333333333333333,
              "#9c179e"
             ],
             [
              0.4444444444444444,
              "#bd3786"
             ],
             [
              0.5555555555555556,
              "#d8576b"
             ],
             [
              0.6666666666666666,
              "#ed7953"
             ],
             [
              0.7777777777777778,
              "#fb9f3a"
             ],
             [
              0.8888888888888888,
              "#fdca26"
             ],
             [
              1,
              "#f0f921"
             ]
            ],
            "type": "contour"
           }
          ],
          "contourcarpet": [
           {
            "colorbar": {
             "outlinewidth": 0,
             "ticks": ""
            },
            "type": "contourcarpet"
           }
          ],
          "heatmap": [
           {
            "colorbar": {
             "outlinewidth": 0,
             "ticks": ""
            },
            "colorscale": [
             [
              0,
              "#0d0887"
             ],
             [
              0.1111111111111111,
              "#46039f"
             ],
             [
              0.2222222222222222,
              "#7201a8"
             ],
             [
              0.3333333333333333,
              "#9c179e"
             ],
             [
              0.4444444444444444,
              "#bd3786"
             ],
             [
              0.5555555555555556,
              "#d8576b"
             ],
             [
              0.6666666666666666,
              "#ed7953"
             ],
             [
              0.7777777777777778,
              "#fb9f3a"
             ],
             [
              0.8888888888888888,
              "#fdca26"
             ],
             [
              1,
              "#f0f921"
             ]
            ],
            "type": "heatmap"
           }
          ],
          "histogram": [
           {
            "marker": {
             "pattern": {
              "fillmode": "overlay",
              "size": 10,
              "solidity": 0.2
             }
            },
            "type": "histogram"
           }
          ],
          "histogram2d": [
           {
            "colorbar": {
             "outlinewidth": 0,
             "ticks": ""
            },
            "colorscale": [
             [
              0,
              "#0d0887"
             ],
             [
              0.1111111111111111,
              "#46039f"
             ],
             [
              0.2222222222222222,
              "#7201a8"
             ],
             [
              0.3333333333333333,
              "#9c179e"
             ],
             [
              0.4444444444444444,
              "#bd3786"
             ],
             [
              0.5555555555555556,
              "#d8576b"
             ],
             [
              0.6666666666666666,
              "#ed7953"
             ],
             [
              0.7777777777777778,
              "#fb9f3a"
             ],
             [
              0.8888888888888888,
              "#fdca26"
             ],
             [
              1,
              "#f0f921"
             ]
            ],
            "type": "histogram2d"
           }
          ],
          "histogram2dcontour": [
           {
            "colorbar": {
             "outlinewidth": 0,
             "ticks": ""
            },
            "colorscale": [
             [
              0,
              "#0d0887"
             ],
             [
              0.1111111111111111,
              "#46039f"
             ],
             [
              0.2222222222222222,
              "#7201a8"
             ],
             [
              0.3333333333333333,
              "#9c179e"
             ],
             [
              0.4444444444444444,
              "#bd3786"
             ],
             [
              0.5555555555555556,
              "#d8576b"
             ],
             [
              0.6666666666666666,
              "#ed7953"
             ],
             [
              0.7777777777777778,
              "#fb9f3a"
             ],
             [
              0.8888888888888888,
              "#fdca26"
             ],
             [
              1,
              "#f0f921"
             ]
            ],
            "type": "histogram2dcontour"
           }
          ],
          "mesh3d": [
           {
            "colorbar": {
             "outlinewidth": 0,
             "ticks": ""
            },
            "type": "mesh3d"
           }
          ],
          "parcoords": [
           {
            "line": {
             "colorbar": {
              "outlinewidth": 0,
              "ticks": ""
             }
            },
            "type": "parcoords"
           }
          ],
          "pie": [
           {
            "automargin": true,
            "type": "pie"
           }
          ],
          "scatter": [
           {
            "fillpattern": {
             "fillmode": "overlay",
             "size": 10,
             "solidity": 0.2
            },
            "type": "scatter"
           }
          ],
          "scatter3d": [
           {
            "line": {
             "colorbar": {
              "outlinewidth": 0,
              "ticks": ""
             }
            },
            "marker": {
             "colorbar": {
              "outlinewidth": 0,
              "ticks": ""
             }
            },
            "type": "scatter3d"
           }
          ],
          "scattercarpet": [
           {
            "marker": {
             "colorbar": {
              "outlinewidth": 0,
              "ticks": ""
             }
            },
            "type": "scattercarpet"
           }
          ],
          "scattergeo": [
           {
            "marker": {
             "colorbar": {
              "outlinewidth": 0,
              "ticks": ""
             }
            },
            "type": "scattergeo"
           }
          ],
          "scattergl": [
           {
            "marker": {
             "colorbar": {
              "outlinewidth": 0,
              "ticks": ""
             }
            },
            "type": "scattergl"
           }
          ],
          "scattermap": [
           {
            "marker": {
             "colorbar": {
              "outlinewidth": 0,
              "ticks": ""
             }
            },
            "type": "scattermap"
           }
          ],
          "scattermapbox": [
           {
            "marker": {
             "colorbar": {
              "outlinewidth": 0,
              "ticks": ""
             }
            },
            "type": "scattermapbox"
           }
          ],
          "scatterpolar": [
           {
            "marker": {
             "colorbar": {
              "outlinewidth": 0,
              "ticks": ""
             }
            },
            "type": "scatterpolar"
           }
          ],
          "scatterpolargl": [
           {
            "marker": {
             "colorbar": {
              "outlinewidth": 0,
              "ticks": ""
             }
            },
            "type": "scatterpolargl"
           }
          ],
          "scatterternary": [
           {
            "marker": {
             "colorbar": {
              "outlinewidth": 0,
              "ticks": ""
             }
            },
            "type": "scatterternary"
           }
          ],
          "surface": [
           {
            "colorbar": {
             "outlinewidth": 0,
             "ticks": ""
            },
            "colorscale": [
             [
              0,
              "#0d0887"
             ],
             [
              0.1111111111111111,
              "#46039f"
             ],
             [
              0.2222222222222222,
              "#7201a8"
             ],
             [
              0.3333333333333333,
              "#9c179e"
             ],
             [
              0.4444444444444444,
              "#bd3786"
             ],
             [
              0.5555555555555556,
              "#d8576b"
             ],
             [
              0.6666666666666666,
              "#ed7953"
             ],
             [
              0.7777777777777778,
              "#fb9f3a"
             ],
             [
              0.8888888888888888,
              "#fdca26"
             ],
             [
              1,
              "#f0f921"
             ]
            ],
            "type": "surface"
           }
          ],
          "table": [
           {
            "cells": {
             "fill": {
              "color": "#EBF0F8"
             },
             "line": {
              "color": "white"
             }
            },
            "header": {
             "fill": {
              "color": "#C8D4E3"
             },
             "line": {
              "color": "white"
             }
            },
            "type": "table"
           }
          ]
         },
         "layout": {
          "annotationdefaults": {
           "arrowcolor": "#2a3f5f",
           "arrowhead": 0,
           "arrowwidth": 1
          },
          "autotypenumbers": "strict",
          "coloraxis": {
           "colorbar": {
            "outlinewidth": 0,
            "ticks": ""
           }
          },
          "colorscale": {
           "diverging": [
            [
             0,
             "#8e0152"
            ],
            [
             0.1,
             "#c51b7d"
            ],
            [
             0.2,
             "#de77ae"
            ],
            [
             0.3,
             "#f1b6da"
            ],
            [
             0.4,
             "#fde0ef"
            ],
            [
             0.5,
             "#f7f7f7"
            ],
            [
             0.6,
             "#e6f5d0"
            ],
            [
             0.7,
             "#b8e186"
            ],
            [
             0.8,
             "#7fbc41"
            ],
            [
             0.9,
             "#4d9221"
            ],
            [
             1,
             "#276419"
            ]
           ],
           "sequential": [
            [
             0,
             "#0d0887"
            ],
            [
             0.1111111111111111,
             "#46039f"
            ],
            [
             0.2222222222222222,
             "#7201a8"
            ],
            [
             0.3333333333333333,
             "#9c179e"
            ],
            [
             0.4444444444444444,
             "#bd3786"
            ],
            [
             0.5555555555555556,
             "#d8576b"
            ],
            [
             0.6666666666666666,
             "#ed7953"
            ],
            [
             0.7777777777777778,
             "#fb9f3a"
            ],
            [
             0.8888888888888888,
             "#fdca26"
            ],
            [
             1,
             "#f0f921"
            ]
           ],
           "sequentialminus": [
            [
             0,
             "#0d0887"
            ],
            [
             0.1111111111111111,
             "#46039f"
            ],
            [
             0.2222222222222222,
             "#7201a8"
            ],
            [
             0.3333333333333333,
             "#9c179e"
            ],
            [
             0.4444444444444444,
             "#bd3786"
            ],
            [
             0.5555555555555556,
             "#d8576b"
            ],
            [
             0.6666666666666666,
             "#ed7953"
            ],
            [
             0.7777777777777778,
             "#fb9f3a"
            ],
            [
             0.8888888888888888,
             "#fdca26"
            ],
            [
             1,
             "#f0f921"
            ]
           ]
          },
          "colorway": [
           "#636efa",
           "#EF553B",
           "#00cc96",
           "#ab63fa",
           "#FFA15A",
           "#19d3f3",
           "#FF6692",
           "#B6E880",
           "#FF97FF",
           "#FECB52"
          ],
          "font": {
           "color": "#2a3f5f"
          },
          "geo": {
           "bgcolor": "white",
           "lakecolor": "white",
           "landcolor": "#E5ECF6",
           "showlakes": true,
           "showland": true,
           "subunitcolor": "white"
          },
          "hoverlabel": {
           "align": "left"
          },
          "hovermode": "closest",
          "mapbox": {
           "style": "light"
          },
          "paper_bgcolor": "white",
          "plot_bgcolor": "#E5ECF6",
          "polar": {
           "angularaxis": {
            "gridcolor": "white",
            "linecolor": "white",
            "ticks": ""
           },
           "bgcolor": "#E5ECF6",
           "radialaxis": {
            "gridcolor": "white",
            "linecolor": "white",
            "ticks": ""
           }
          },
          "scene": {
           "xaxis": {
            "backgroundcolor": "#E5ECF6",
            "gridcolor": "white",
            "gridwidth": 2,
            "linecolor": "white",
            "showbackground": true,
            "ticks": "",
            "zerolinecolor": "white"
           },
           "yaxis": {
            "backgroundcolor": "#E5ECF6",
            "gridcolor": "white",
            "gridwidth": 2,
            "linecolor": "white",
            "showbackground": true,
            "ticks": "",
            "zerolinecolor": "white"
           },
           "zaxis": {
            "backgroundcolor": "#E5ECF6",
            "gridcolor": "white",
            "gridwidth": 2,
            "linecolor": "white",
            "showbackground": true,
            "ticks": "",
            "zerolinecolor": "white"
           }
          },
          "shapedefaults": {
           "line": {
            "color": "#2a3f5f"
           }
          },
          "ternary": {
           "aaxis": {
            "gridcolor": "white",
            "linecolor": "white",
            "ticks": ""
           },
           "baxis": {
            "gridcolor": "white",
            "linecolor": "white",
            "ticks": ""
           },
           "bgcolor": "#E5ECF6",
           "caxis": {
            "gridcolor": "white",
            "linecolor": "white",
            "ticks": ""
           }
          },
          "title": {
           "x": 0.05
          },
          "xaxis": {
           "automargin": true,
           "gridcolor": "white",
           "linecolor": "white",
           "ticks": "",
           "title": {
            "standoff": 15
           },
           "zerolinecolor": "white",
           "zerolinewidth": 2
          },
          "yaxis": {
           "automargin": true,
           "gridcolor": "white",
           "linecolor": "white",
           "ticks": "",
           "title": {
            "standoff": 15
           },
           "zerolinecolor": "white",
           "zerolinewidth": 2
          }
         }
        },
        "title": {
         "text": "Vector Store Visualization using PCA"
        },
        "width": 800
       }
      }
     },
     "metadata": {},
     "output_type": "display_data"
    }
   ],
   "source": [
    "import numpy as np\n",
    "import plotly.express as px\n",
    "import pandas as pd\n",
    "import faiss\n",
    "from sklearn.decomposition import PCA\n",
    "\n",
    "# Load the Faiss index\n",
    "index = faiss.read_index(\"vectorstore/index.faiss\")\n",
    "\n",
    "# Generate random vectors with the same dimension as the index\n",
    "vectors = np.random.rand(index.ntotal, index.d).astype('float32')\n",
    "\n",
    "# Apply PCA to reduce dimensions to 3D\n",
    "pca = PCA(n_components=3)\n",
    "reduced_vectors = pca.fit_transform(vectors)\n",
    "\n",
    "# Create a DataFrame for Plotly\n",
    "df = pd.DataFrame(reduced_vectors, columns=['PC1', 'PC2', 'PC3'])\n",
    "\n",
    "# Plot the reduced vectors in 3D\n",
    "fig = px.scatter_3d(df, x='PC1', y='PC2', z='PC3', title=\"Vector Store Visualization using PCA\")\n",
    "fig.update_traces(marker=dict(size=2))  # Change the size of the markers\n",
    "fig.update_layout(\n",
    "    scene = dict(\n",
    "        xaxis_title='Principal Component 1',\n",
    "        yaxis_title='Principal Component 2',\n",
    "        zaxis_title='Principal Component 3'),\n",
    "    width=800,\n",
    "    height=700)\n",
    "fig.show()"
   ]
  }
 ],
 "metadata": {
  "kernelspec": {
   "display_name": "myenv",
   "language": "python",
   "name": "python3"
  },
  "language_info": {
   "codemirror_mode": {
    "name": "ipython",
    "version": 3
   },
   "file_extension": ".py",
   "mimetype": "text/x-python",
   "name": "python",
   "nbconvert_exporter": "python",
   "pygments_lexer": "ipython3",
   "version": "3.13.2"
  }
 },
 "nbformat": 4,
 "nbformat_minor": 5
}
