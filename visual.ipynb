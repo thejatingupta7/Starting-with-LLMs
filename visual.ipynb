{
 "cells": [
  {
   "cell_type": "code",
   "execution_count": null,
   "id": "37f87771",
   "metadata": {},
   "outputs": [],
   "source": [
    "import numpy as np\n",
    "import plotly.express as px\n",
    "import pandas as pd\n",
    "import faiss\n",
    "from sklearn.decomposition import PCA\n",
    "\n",
    "# Load the Faiss index\n",
    "index = faiss.read_index(\"vectorstore/index.faiss\")\n",
    "\n",
    "# Generate random vectors with the same dimension as the index\n",
    "vectors = np.random.rand(index.ntotal, index.d).astype('float32')\n",
    "\n",
    "# Apply PCA to reduce dimensions to 3D\n",
    "pca = PCA(n_components=3)\n",
    "reduced_vectors = pca.fit_transform(vectors)\n",
    "\n",
    "# Create a DataFrame for Plotly\n",
    "df = pd.DataFrame(reduced_vectors, columns=['PC1', 'PC2', 'PC3'])\n",
    "\n",
    "# Plot the reduced vectors in 3D\n",
    "fig = px.scatter_3d(df, x='PC1', y='PC2', z='PC3', title=\"Vector Store Visualization using PCA\")\n",
    "fig.update_traces(marker=dict(size=2))  # Change the size of the markers\n",
    "fig.update_layout(\n",
    "    scene = dict(\n",
    "        xaxis_title='Principal Component 1',\n",
    "        yaxis_title='Principal Component 2',\n",
    "        zaxis_title='Principal Component 3'),\n",
    "    width=800,\n",
    "    height=700)\n",
    "fig.show()"
   ]
  }
 ],
 "metadata": {
  "language_info": {
   "name": "python"
  }
 },
 "nbformat": 4,
 "nbformat_minor": 5
}
